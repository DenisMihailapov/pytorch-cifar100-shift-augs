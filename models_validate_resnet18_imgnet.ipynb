{
 "cells": [
  {
   "cell_type": "code",
   "execution_count": null,
   "id": "80b93636",
   "metadata": {
    "pycharm": {
     "is_executing": true
    }
   },
   "outputs": [],
   "source": [
    "%load_ext autoreload\n",
    "%autoreload 2"
   ]
  },
  {
   "cell_type": "code",
   "execution_count": null,
   "id": "0d412374",
   "metadata": {},
   "outputs": [],
   "source": [
    "%env CUDA_VISIBLE_DEVICES=1"
   ]
  },
  {
   "cell_type": "code",
   "execution_count": null,
   "id": "448195dc",
   "metadata": {},
   "outputs": [],
   "source": [
    "import sys\n",
    "sys.path.append('..')\n",
    "from pathlib import Path\n",
    "\n",
    "import matplotlib.pyplot as plt\n",
    "import numpy as np\n",
    "import torch"
   ]
  },
  {
   "cell_type": "code",
   "execution_count": null,
   "id": "9490131d",
   "metadata": {},
   "outputs": [],
   "source": [
    "%matplotlib inline\n",
    "params = {\n",
    "    \"ytick.color\" : \"black\",\n",
    "    \"xtick.color\" : \"black\",\n",
    "    \"axes.labelcolor\" : \"w\",\n",
    "    \"axes.edgecolor\" : \"w\",\n",
    "    \n",
    "    \"figure.figsize\": (14, 5),\n",
    "    \"axes.grid\": True,\n",
    "    \"grid.color\": '0.7',\n",
    "    \"axes.facecolor\": 'w',\n",
    "    \n",
    "    \"axes.labelsize\": 'medium',\n",
    "    \"xtick.labelsize\": 'medium',\n",
    "    \"ytick.labelsize\": 'medium'\n",
    "    }\n",
    "plt.rcParams.update(params)"
   ]
  },
  {
   "cell_type": "markdown",
   "id": "7620dd87",
   "metadata": {},
   "source": [
    "## Загружаем сетки"
   ]
  },
  {
   "cell_type": "code",
   "execution_count": null,
   "id": "b4351dfd",
   "metadata": {},
   "outputs": [],
   "source": [
    "from models.resnet import resnet18\n",
    "\n",
    "def search_best_ckpt(m_folder: Path):\n",
    "\n",
    "    ckpts = sorted(\n",
    "        m_folder.rglob('*.pth'), \n",
    "        key=lambda ckpt: int(ckpt.name.split(\"-\")[1]),\n",
    "        reverse=True\n",
    "    )\n",
    "    \n",
    "    for ckpt in ckpts:\n",
    "        ckpt_type = ckpt.name.split(\"-\")[-1]\n",
    "        if ckpt_type == 'best.pth':\n",
    "            return ckpt\n",
    "\n",
    "    raise ValueError(\"No correct ckpts folder (need at least one ckpt with 'best' in name)\")    \n",
    "\n",
    "\n",
    "\n",
    "def load_models_from_folder(folder_path: str, bp_filt_size=None, merge_conv_bp=False, num_classes=100) -> list:\n",
    "    folder_path = Path(folder_path)\n",
    "    models = []\n",
    "    for m_folder in sorted(folder_path.iterdir()):\n",
    "        if m_folder.is_dir():\n",
    "            # exist utils.most_recent_folder and most_recent_weights\n",
    "            best_ckpt_path = search_best_ckpt(m_folder)\n",
    "            print(best_ckpt_path)\n",
    "            model = resnet18(bp_filt_size, num_classes=num_classes)\n",
    "            weights = torch.load(best_ckpt_path, map_location='cpu')\n",
    "            model.load_state_dict(weights)\n",
    "            try:\n",
    "                model.disable_distillation()\n",
    "            except:\n",
    "                pass\n",
    "            models.append({'model': model.eval(), 'name': m_folder.name})\n",
    "        \n",
    "    return models"
   ]
  },
  {
   "cell_type": "code",
   "execution_count": null,
   "id": "66c74b9f",
   "metadata": {},
   "outputs": [],
   "source": [
    "folder = 'checkpoint/resnet18_tiny_imagenet_x2_data_rc_aug_0.9_aug_mode_pad_log_no_w'\n",
    "\n",
    "bp_filt_size = 3 if \"lpf3\" in folder else None\n",
    "merge_conv_bp = \"merge_conv_bp\" in folder\n",
    "num_classes = 200 if \"tiny_imagenet\" in folder else 100\n",
    "\n",
    "distil_models = load_models_from_folder(folder, bp_filt_size=bp_filt_size, merge_conv_bp=merge_conv_bp, num_classes=num_classes)"
   ]
  },
  {
   "cell_type": "code",
   "execution_count": null,
   "id": "7c031ade",
   "metadata": {},
   "outputs": [],
   "source": [
    "len(distil_models)"
   ]
  },
  {
   "cell_type": "code",
   "execution_count": null,
   "id": "c28cd3ec",
   "metadata": {},
   "outputs": [],
   "source": [
    "distil_models[0]"
   ]
  },
  {
   "cell_type": "markdown",
   "id": "114ecb54",
   "metadata": {},
   "source": [
    "## Валидация сеток"
   ]
  },
  {
   "cell_type": "code",
   "execution_count": null,
   "id": "ca0aed83",
   "metadata": {},
   "outputs": [],
   "source": [
    "from datasets.tiny_imagenet import get_tiny_imagenet_test_dataloader\n",
    "\n",
    "device = 'cuda'\n",
    "batch_size = 128\n",
    "workers = 4\n",
    "shift_diag = 2*8\n",
    "shuffle = False\n",
    "\n",
    "seed = 0\n",
    "np.random.seed(seed)\n",
    "torch.manual_seed(seed)"
   ]
  },
  {
   "cell_type": "code",
   "execution_count": null,
   "id": "a6661df6",
   "metadata": {},
   "outputs": [],
   "source": [
    "val_loader = get_tiny_imagenet_test_dataloader(\n",
    "    batch_size=batch_size,\n",
    "    shuffle=shuffle,\n",
    "    num_workers=workers,\n",
    ")"
   ]
  },
  {
   "cell_type": "code",
   "execution_count": null,
   "id": "48b42f53",
   "metadata": {},
   "outputs": [],
   "source": [
    "image = next(iter(val_loader))[0]\n",
    "image.shape"
   ]
  },
  {
   "cell_type": "code",
   "execution_count": null,
   "id": "a599f49f",
   "metadata": {},
   "outputs": [],
   "source": [
    "from logger import set_logging\n",
    "set_logging() "
   ]
  },
  {
   "cell_type": "code",
   "execution_count": null,
   "id": "832248ee",
   "metadata": {},
   "outputs": [],
   "source": [
    "from validate_utils import AverageMeter, accuracy, agreement\n",
    "from validate_utils import validate, validate_shift, validate_diagonal\n",
    "\n",
    "from torch import nn\n",
    "\n",
    "criterion = nn.CrossEntropyLoss().cuda()"
   ]
  },
  {
   "cell_type": "code",
   "execution_count": null,
   "id": "01329083",
   "metadata": {},
   "outputs": [],
   "source": [
    "validate(val_loader, distil_models[0]['model'].cuda(), criterion, print_log=True)"
   ]
  },
  {
   "cell_type": "markdown",
   "id": "c7cb396f",
   "metadata": {},
   "source": [
    "## Оценим работу антиалиасинга\n",
    "Код был взят из скриптов автора статьи: https://github.com/adobe/antialiased-cnns/blob/master/main.py"
   ]
  },
  {
   "cell_type": "code",
   "execution_count": null,
   "id": "6bdef1b8",
   "metadata": {},
   "outputs": [],
   "source": [
    "import pandas as pd\n",
    "from tqdm.auto import tqdm\n",
    "\n",
    "def stability_score(diag_probs):\n",
    "    \"\"\" Assessment of the stability of the prediction of the model at different image shifts \n",
    "    diag_probs:    model prediction confidence at different image shifts \n",
    "    \"\"\"\n",
    "    return np.mean(np.var(diag_probs[:, 1:] - diag_probs[:, :-1], axis=1))\n",
    "\n",
    "def get_metrics(val_loader, model, out_dir, D=32, epochs_shift=5, name=''):\n",
    "    model.to(device)\n",
    "    with_distil = False\n",
    "    if hasattr(model, 'disable_distillation') and hasattr(model, 'free_feature_list'):\n",
    "        with_distil = True\n",
    "        model.free_feature_list()\n",
    "        model.disable_distillation()\n",
    "    \n",
    "    prob, top1, _ = validate_diagonal(val_loader, model, out_dir, D=D, print_log=False, name=name)\n",
    "    consist = validate_shift(val_loader, model, epochs_shift, D=D, print_log=False, name=name)\n",
    "    \n",
    "    if with_distil:\n",
    "        model.enable_distillation()\n",
    "    \n",
    "    return prob, top1, consist\n",
    "\n",
    "def construct_and_save_tabel(data_dict, out_dir: Path = None):\n",
    "    df = pd.DataFrame.from_dict(\n",
    "        data_dict, orient='index', columns=[\"prob\", \"top1\", \"consist\"]\n",
    "    )  \n",
    "    \n",
    "    if out_dir:\n",
    "        out_dir = Path(out_dir)\n",
    "        out_dir.mkdir(exist_ok=True)\n",
    "        df.to_csv(out_dir / 'validate_tabel.csv')\n",
    "        \n",
    "    return df\n",
    "\n",
    "    \n",
    "def validate_tabel(val_loader, mobilenet, mobilenet_antialiased, distil_models):\n",
    "    data_dict = dict()\n",
    "    data_dict['orig'] = get_metrics(val_loader, mobilenet, './mobilenet', name='orig')\n",
    "    data_dict['aliased'] = get_metrics(val_loader, mobilenet_antialiased, './mobilenet_antialiased', name='aliased')\n",
    "    for dm in tqdm(distil_models):\n",
    "        # dm['name'] = exp_dw{int}_temp{int} \n",
    "        data_dict['distil' + dm['name'][3:8]] = get_metrics(val_loader, dm['model'], f'./distil/{dm[\"name\"]}', name=dm[\"name\"])\n",
    "    \n",
    "    return construct_and_save_tabel(data_dict)\n",
    "\n",
    "\n",
    "def statisical_validation_model(val_loader, models, D=4, model_name='model'):\n",
    "    \n",
    "    out_dir = Path(f'./stat_exp_{model_name}')\n",
    "    metrics = np.array([\n",
    "        get_metrics(\n",
    "            val_loader, \n",
    "            named_model['model'], \n",
    "            out_dir / named_model[\"name\"], \n",
    "            name=named_model[\"name\"],\n",
    "            D=D\n",
    "        )\n",
    "        for named_model in tqdm(models)\n",
    "    ])\n",
    "    \n",
    "    data_dict = dict()\n",
    "    for i, metric in enumerate(tqdm(metrics)):\n",
    "         data_dict[models[i][\"name\"]] = metric\n",
    "    data_dict['mean'] = metrics.mean(0).tolist()\n",
    "    data_dict['std'] = metrics.std(0).tolist()\n",
    "    \n",
    "    return construct_and_save_tabel(data_dict, out_dir)\n",
    "    "
   ]
  },
  {
   "cell_type": "code",
   "execution_count": null,
   "id": "d0f756fb",
   "metadata": {},
   "outputs": [],
   "source": [
    "val_shift_data_loader = get_tiny_imagenet_test_dataloader(\n",
    "    batch_size=1,\n",
    "    shuffle=shuffle,\n",
    "    num_workers=workers,\n",
    "    img_pad=shift_diag // 2\n",
    ")"
   ]
  },
  {
   "cell_type": "markdown",
   "id": "58bc6ef6",
   "metadata": {},
   "source": [
    "### validate_tabel"
   ]
  },
  {
   "cell_type": "code",
   "execution_count": null,
   "id": "89f5f8de",
   "metadata": {},
   "outputs": [],
   "source": [
    "acc_dict = dict()\n",
    "for distil_model in tqdm(distil_models):\n",
    "    acc = validate(val_loader, distil_model['model'].cuda(), criterion, \n",
    "                                  print_log=False, print_acc=False)\n",
    "    acc_dict[distil_model['name']] = round(acc.item(), 3)\n",
    "    print(acc_dict[distil_model['name']], end = ' ')\n",
    "    if hasattr(distil_model['model'], 'free_feature_list'):\n",
    "        distil_model['model'].free_feature_list()\n",
    "\n",
    "acc_dict = pd.DataFrame.from_dict(\n",
    "        acc_dict, orient='index', columns=[\"acc\"]\n",
    "    )  \n",
    "acc_dict.loc['mean'] = acc_dict['acc'].mean(0).tolist()\n",
    "acc_dict.loc['std'] = acc_dict['acc'].std(0).tolist()"
   ]
  },
  {
   "cell_type": "code",
   "execution_count": null,
   "id": "07a97728",
   "metadata": {},
   "outputs": [],
   "source": [
    "tab = statisical_validation_model(val_shift_data_loader, distil_models, D=shift_diag, model_name=folder)"
   ]
  },
  {
   "cell_type": "code",
   "execution_count": null,
   "id": "f6f92173",
   "metadata": {},
   "outputs": [],
   "source": [
    "tab = tab.join(acc_dict) "
   ]
  },
  {
   "cell_type": "code",
   "execution_count": null,
   "id": "f7a7051e",
   "metadata": {},
   "outputs": [],
   "source": [
    "tab"
   ]
  },
  {
   "cell_type": "code",
   "execution_count": null,
   "id": "79027b5a",
   "metadata": {},
   "outputs": [],
   "source": [
    "shift_diag"
   ]
  },
  {
   "cell_type": "code",
   "execution_count": null,
   "id": "499bf678",
   "metadata": {},
   "outputs": [],
   "source": [
    "folder"
   ]
  },
  {
   "cell_type": "code",
   "execution_count": null,
   "id": "188b9666",
   "metadata": {},
   "outputs": [],
   "source": [
    "distil_models[0]"
   ]
  }
 ],
 "metadata": {
  "kernelspec": {
   "display_name": "pt_cifar100",
   "language": "python",
   "name": "python3"
  },
  "language_info": {
   "codemirror_mode": {
    "name": "ipython",
    "version": 3
   },
   "file_extension": ".py",
   "mimetype": "text/x-python",
   "name": "python",
   "nbconvert_exporter": "python",
   "pygments_lexer": "ipython3",
   "version": "3.6.13"
  },
  "vscode": {
   "interpreter": {
    "hash": "b8926f56ccc226e1af0fb7954aab0f5dd52a29e9daacd869330157e38812556e"
   }
  }
 },
 "nbformat": 4,
 "nbformat_minor": 5
}
